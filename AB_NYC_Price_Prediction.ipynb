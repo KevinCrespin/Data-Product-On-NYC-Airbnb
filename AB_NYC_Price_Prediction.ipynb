{
 "cells": [
  {
   "cell_type": "code",
   "execution_count": null,
   "metadata": {},
   "outputs": [],
   "source": [
    "##Importing most of the libraries we have used in our assignments that we will use in this project\n",
    "\n",
    "from sklearn.neighbors import KNeighborsClassifier\n",
    "from sklearn.linear_model import LogisticRegression\n",
    "from sklearn.linear_model import LinearRegression\n",
    "from sklearn.ensemble import RandomForestClassifier\n",
    "from sklearn.tree import DecisionTreeClassifier\n",
    "from sklearn.model_selection import train_test_split\n",
    "from sklearn.metrics import accuracy_score\n",
    "from sklearn.preprocessing import LabelEncoder\n",
    "from sklearn.preprocessing import OneHotEncoder\n",
    "from sklearn.model_selection import cross_val_score\n",
    "\n",
    "from sklearn import metrics\n",
    "import numpy as np \n",
    "import pandas as pd\n",
    "import matplotlib.pyplot as plt\n",
    "from matplotlib.colors import ListedColormap\n",
    "from numpy import array\n",
    "from numpy import argmax\n",
    "\n",
    "\n",
    "# Read in the CSV file we will be using for this project \n",
    "df = pd.read_csv(\"./AB_NYC_2019.csv\")\n",
    "df[0::10]"
   ]
  },
  {
   "cell_type": "markdown",
   "metadata": {},
   "source": [
    "## Data analysis"
   ]
  },
  {
   "cell_type": "code",
   "execution_count": null,
   "metadata": {},
   "outputs": [],
   "source": [
    "# Price\n",
    "df[\"price\"].describe()"
   ]
  },
  {
   "cell_type": "code",
   "execution_count": null,
   "metadata": {},
   "outputs": [],
   "source": [
    "# neighbourhood groups\n",
    "df['neighbourhood_group'].value_counts()"
   ]
  },
  {
   "cell_type": "code",
   "execution_count": null,
   "metadata": {},
   "outputs": [],
   "source": [
    "# Avg Price in neighbourhood groups\n",
    "avg_price = df.groupby(\"neighbourhood_group\")[\"price\"].mean()\n",
    "\n",
    "print(avg_price)"
   ]
  },
  {
   "cell_type": "markdown",
   "metadata": {},
   "source": [
    "## Encode Non-Numerical Values to 0 and 1. Drop unnecessary columns from DataFrame and replace NaN values with 0."
   ]
  },
  {
   "cell_type": "code",
   "execution_count": null,
   "metadata": {},
   "outputs": [],
   "source": [
    "# Categorical Features: neighbourhood_group, neighbourhood, room_type\n",
    "encode_NYC_df = pd.get_dummies(df, columns = ['neighbourhood_group','room_type'])\n",
    "\n",
    "# Dropping unnecessary features\n",
    "encode_NYC_df = encode_NYC_df.drop(columns=['id', 'name', 'host_name', \n",
    "                      'last_review', 'host_id', 'neighbourhood'])\n",
    "\n",
    "# Replace NaN with 0\n",
    "encode_NYC_df['reviews_per_month']=encode_NYC_df['reviews_per_month'].replace(np.nan, 0)\n",
    "encode_NYC_df['price']=encode_NYC_df['price'].replace(np.nan, 0)"
   ]
  },
  {
   "cell_type": "code",
   "execution_count": null,
   "metadata": {},
   "outputs": [],
   "source": [
    "# Move price to end of list\n",
    "cols = encode_NYC_df.columns.tolist()\n",
    "cols.append(cols.pop(cols.index('price')))\n",
    "encode_NYC_df = encode_NYC_df.reindex(columns = cols)\n",
    "\n",
    "# Sort by price\n",
    "encode_NYC_df.sort_values(by='price',ascending=False,inplace=True)\n",
    "\n",
    "encode_NYC_df.head()"
   ]
  },
  {
   "cell_type": "markdown",
   "metadata": {},
   "source": [
    "## Split the Dataset"
   ]
  },
  {
   "cell_type": "code",
   "execution_count": null,
   "metadata": {},
   "outputs": [],
   "source": [
    "# Feature_column and encoding\n",
    "feature_cols = cols\n",
    "feature_cols.pop(feature_cols.index('price'))\n",
    "X = encode_NYC_df[feature_cols]\n",
    "y = encode_NYC_df['price']\n",
    "\n",
    "X_train, X_test, y_train, y_test = train_test_split(X, y, test_size=0.3, random_state=42)\n",
    "\n",
    "# Print the first 5 lines\n",
    "print(X_test)\n",
    "print('\\n')\n",
    "print(y_test)\n",
    "\n",
    "\n",
    "# print the size of the traning set:\n",
    "print(X_train.shape)\n",
    "print(y_train.shape)\n",
    "\n",
    "# print the size of the testing set:\n",
    "print(X_test.shape)\n",
    "print(y_test.shape)"
   ]
  },
  {
   "cell_type": "markdown",
   "metadata": {},
   "source": [
    "## Random Forest Classifier"
   ]
  },
  {
   "cell_type": "code",
   "execution_count": null,
   "metadata": {},
   "outputs": [],
   "source": [
    "## Using Random Forest Classifier with parameters: n_estimators = 19, bootstrap = True, random_state=3\n",
    "my_RandomForest = RandomForestClassifier(n_estimators = 55, bootstrap = True, random_state=3, \n",
    "                                         min_samples_split = 3, min_samples_leaf =2)\n",
    "\n",
    "my_RandomForest.fit(X_train, y_train)\n",
    "\n",
    "y_predict_rf = my_RandomForest.predict(X_test)\n",
    "\n",
    "print(y_predict_rf)\n",
    "\n",
    "# calculate final accuracy\n",
    "accuracy_rf = accuracy_score(y_test, y_predict_rf)\n",
    "\n",
    "print(\"The accuracy is\", \"{:.1f}\".format(accuracy_rf * 100), \"%\")"
   ]
  },
  {
   "cell_type": "markdown",
   "metadata": {},
   "source": [
    "## Linear Regression"
   ]
  },
  {
   "cell_type": "code",
   "execution_count": null,
   "metadata": {},
   "outputs": [],
   "source": [
    "# In the following line, \"my_LinReg\" is instantiated as an \"object\" of LinearRegression \"class\"\n",
    "my_LinReg = LinearRegression()\n",
    "\n",
    "# Fitting the model to the training dataset\n",
    "my_LinReg.fit(X_train, y_train)\n",
    "\n",
    "# Printing Theta0 using attribute \"intercept_\":\n",
    "print(my_LinReg.intercept_)\n",
    "\n",
    "# Printing [Theta1, Theta2, Theta3] using attribute \"coef_\":\n",
    "print(my_LinReg.coef_)"
   ]
  },
  {
   "cell_type": "code",
   "execution_count": null,
   "metadata": {
    "scrolled": true
   },
   "outputs": [],
   "source": [
    "# Predictions on the testing set\n",
    "predict_price = my_LinReg.predict(X_test)\n",
    "\n",
    "print(predict_price)\n",
    "\n",
    "\n",
    "# NOT SURE IF NEEDED\n",
    "# Calculating \"Mean Square Error\" (MSE):\n",
    "# mse = metrics.mean_squared_error(y_test, predict_price)\n",
    "\n",
    "# Using numpy sqrt function to take the square root and calculate \"Root Mean Square Error\" (RMSE)\n",
    "# rmse = np.sqrt(mse)\n",
    "\n",
    "# print(rmse)"
   ]
  },
  {
   "cell_type": "markdown",
   "metadata": {},
   "source": [
    "## Logistic Regression - WIP"
   ]
  },
  {
   "cell_type": "code",
   "execution_count": null,
   "metadata": {
    "scrolled": false
   },
   "outputs": [],
   "source": []
  },
  {
   "cell_type": "markdown",
   "metadata": {},
   "source": [
    "# KNN"
   ]
  },
  {
   "cell_type": "code",
   "execution_count": null,
   "metadata": {},
   "outputs": [],
   "source": [
    "# Instantiating KNeighborsClassifier with an list of different K values:\n",
    "\n",
    "k = [3,5,15,25]\n",
    "\n",
    "for i in k:\n",
    "    my_knn = KNeighborsClassifier(n_neighbors = i)\n",
    "\n",
    "    # Training set\n",
    "    my_knn.fit(X_train, y_train)\n",
    "\n",
    "    # Testing on the testing set:\n",
    "    y_predict_knn = my_knn.predict(X_test)\n",
    "\n",
    "    print(y_predict_knn)\n",
    "\n",
    "    # find the accuracy of knn:\n",
    "    accuracy_knn = accuracy_score(y_test, y_predict_knn)\n",
    "    print(\"The accuracy using KNN Algorithm with k =\",i, \"is\", \"{:.1f}\".format(accuracy_knn * 100), \"%\")\n",
    "    "
   ]
  },
  {
   "cell_type": "markdown",
   "metadata": {},
   "source": [
    "# Decision Tree"
   ]
  },
  {
   "cell_type": "code",
   "execution_count": null,
   "metadata": {},
   "outputs": [],
   "source": [
    "# \"my_decisiontree\" is instantiated as an \"object\" of DecisionTreeClassifier \"class\". \n",
    "my_decisiontree = DecisionTreeClassifier(random_state=5)\n",
    "\n",
    "# We can use the method \"fit\" of the objects \"my_decisiontree\" along with training dataset and labels to train the model.\n",
    "my_decisiontree.fit(X_train, y_train)\n",
    "\n",
    "# Testing on the testing set:\n",
    "y_predict_dt = my_decisiontree.predict(X_test)\n",
    "\n",
    "# percent of correct predictions:\n",
    "accuracy_dt = accuracy_score(y_test, y_predict_dt)\n",
    "\n",
    "print(\"The accuracy using Decision Tree is\", \"{:.1f}\".format(accuracy_dt * 100), \"%\")"
   ]
  },
  {
   "cell_type": "code",
   "execution_count": null,
   "metadata": {},
   "outputs": [],
   "source": []
  }
 ],
 "metadata": {
  "kernelspec": {
   "display_name": "Python 3",
   "language": "python",
   "name": "python3"
  },
  "language_info": {
   "codemirror_mode": {
    "name": "ipython",
    "version": 3
   },
   "file_extension": ".py",
   "mimetype": "text/x-python",
   "name": "python",
   "nbconvert_exporter": "python",
   "pygments_lexer": "ipython3",
   "version": "3.8.3"
  }
 },
 "nbformat": 4,
 "nbformat_minor": 4
}
